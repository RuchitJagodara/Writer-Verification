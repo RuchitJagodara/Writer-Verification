{
 "cells": [
  {
   "cell_type": "code",
   "execution_count": 1,
   "metadata": {},
   "outputs": [],
   "source": [
    "import torch\n",
    "import torch.nn as nn\n",
    "import torch.optim as optim\n",
    "from torch.utils.data import DataLoader, Dataset\n",
    "from torchvision import transforms\n",
    "from PIL import Image\n",
    "import os\n",
    "import random"
   ]
  },
  {
   "cell_type": "code",
   "execution_count": 2,
   "metadata": {},
   "outputs": [],
   "source": [
    "# Define the Siamese Network\n",
    "class SiameseNetwork(nn.Module):\n",
    "    def __init__(self, base_network):\n",
    "        super(SiameseNetwork, self).__init__()\n",
    "        self.base_network = base_network\n",
    "\n",
    "    def forward(self, img1, img2):\n",
    "        output1 = self.base_network(img1)\n",
    "        output2 = self.base_network(img2)\n",
    "        return output1, output2\n",
    "\n",
    "# Define the base CNN network\n",
    "class BaseNetwork(nn.Module):\n",
    "    def __init__(self):\n",
    "        super(BaseNetwork, self).__init__()\n",
    "        self.conv = nn.Sequential(\n",
    "            nn.Conv2d(1, 32, kernel_size=3, stride=1, padding=1),\n",
    "            nn.ReLU(),\n",
    "            nn.MaxPool2d(kernel_size=2, stride=2),\n",
    "            nn.Conv2d(32, 64, kernel_size=3, stride=1, padding=1),\n",
    "            nn.ReLU(),\n",
    "            nn.MaxPool2d(kernel_size=2, stride=2),\n",
    "            nn.Conv2d(64, 128, kernel_size=3, stride=1, padding=1),\n",
    "            nn.ReLU(),\n",
    "            nn.MaxPool2d(kernel_size=2, stride=2)\n",
    "        )\n",
    "        self.fc = nn.Sequential(\n",
    "            nn.Linear(128 * 12 * 12, 512),\n",
    "            nn.ReLU(),\n",
    "            nn.Linear(512, 256)\n",
    "        )\n",
    "\n",
    "    def forward(self, x):\n",
    "        x = self.conv(x)\n",
    "        x = x.view(x.size(0), -1)\n",
    "        x = self.fc(x)\n",
    "        return x\n"
   ]
  },
  {
   "cell_type": "code",
   "execution_count": 3,
   "metadata": {},
   "outputs": [],
   "source": [
    "# Prepare the data\n",
    "transform = transforms.Compose([\n",
    "    transforms.Resize((100, 100)),\n",
    "    transforms.ToTensor()\n",
    "])"
   ]
  },
  {
   "cell_type": "code",
   "execution_count": 4,
   "metadata": {},
   "outputs": [],
   "source": [
    "class HandwritingTripletDataset(Dataset):\n",
    "    def __init__(self, triplets, transform=None):\n",
    "        self.triplets = triplets\n",
    "        self.transform = transform\n",
    "\n",
    "    def __len__(self):\n",
    "        return len(self.triplets)\n",
    "\n",
    "    def __getitem__(self, idx):\n",
    "        anchor_path, positive_path, negative_path = self.triplets[idx]\n",
    "        anchor_img = Image.open(anchor_path).convert('L')\n",
    "        positive_img = Image.open(positive_path).convert('L')\n",
    "        negative_img = Image.open(negative_path).convert('L')\n",
    "\n",
    "        if self.transform:\n",
    "            anchor_img = self.transform(anchor_img)\n",
    "            positive_img = self.transform(positive_img)\n",
    "            negative_img = self.transform(negative_img)\n",
    "\n",
    "        return anchor_img, positive_img, negative_img\n"
   ]
  },
  {
   "cell_type": "code",
   "execution_count": 5,
   "metadata": {},
   "outputs": [],
   "source": [
    "# generating dataset for training the network using triplet loss\n",
    "def generate_triplets(labels_dict, num_triplets):\n",
    "    triplets = []\n",
    "    writer_indices = list(labels_dict.keys())\n",
    "    \n",
    "    while len(triplets) < num_triplets:\n",
    "        # Randomly select an anchor writer\n",
    "        anchor_writer = random.choice(writer_indices)\n",
    "        anchor_images = labels_dict[anchor_writer]\n",
    "        \n",
    "        # Ensure anchor writer has at least 2 images\n",
    "        if len(anchor_images) < 2:\n",
    "            continue\n",
    "        \n",
    "        # Select anchor and positive image from the same writer\n",
    "        anchor_img, positive_img = random.sample(anchor_images, 2)\n",
    "        \n",
    "        # Select a negative writer different from the anchor writer\n",
    "        negative_writer = random.choice([w for w in writer_indices if w != anchor_writer])\n",
    "        negative_img = random.choice(labels_dict[negative_writer])\n",
    "        \n",
    "        # Add the triplet to the list\n",
    "        triplets.append((anchor_img, positive_img, negative_img))\n",
    "    \n",
    "    return triplets"
   ]
  },
  {
   "cell_type": "code",
   "execution_count": 6,
   "metadata": {},
   "outputs": [],
   "source": [
    "class TripletLoss(nn.Module):\n",
    "    def __init__(self, margin=1.0):\n",
    "        super(TripletLoss, self).__init__()\n",
    "        self.margin = margin\n",
    "\n",
    "    def forward(self, anchor, positive, negative):\n",
    "        positive_distance = nn.functional.pairwise_distance(anchor, positive)\n",
    "        negative_distance = nn.functional.pairwise_distance(anchor, negative)\n",
    "        loss = torch.mean(torch.clamp(positive_distance - negative_distance + self.margin, min=0.0))\n",
    "        return loss"
   ]
  },
  {
   "cell_type": "code",
   "execution_count": 7,
   "metadata": {},
   "outputs": [],
   "source": [
    "dataset_dir = \"dataset/dataset/train\"\n",
    "labels_dict = {}\n",
    "count = 0\n",
    "for writer_label, writer_folder in enumerate(os.listdir(dataset_dir)):\n",
    "    count += 1\n",
    "    if(count > 30):\n",
    "        break\n",
    "    writer_folder_path = os.path.join(dataset_dir, writer_folder)\n",
    "    if not os.path.isdir(writer_folder_path):\n",
    "        continue\n",
    "\n",
    "    labels_dict[writer_label] = []\n",
    "\n",
    "    for img_name in os.listdir(writer_folder_path):\n",
    "        img_path = os.path.join(writer_folder_path, img_name)\n",
    "        labels_dict[writer_label].append(img_path)"
   ]
  },
  {
   "cell_type": "code",
   "execution_count": 8,
   "metadata": {},
   "outputs": [],
   "source": [
    "triplets = generate_triplets(labels_dict, 1000)"
   ]
  },
  {
   "cell_type": "code",
   "execution_count": 9,
   "metadata": {},
   "outputs": [],
   "source": [
    "dataset = HandwritingTripletDataset(triplets, transform=transform)\n",
    "dataloader = DataLoader(dataset, batch_size=32, shuffle=True)\n"
   ]
  },
  {
   "cell_type": "code",
   "execution_count": 12,
   "metadata": {},
   "outputs": [],
   "source": [
    "# Initialize the network\n",
    "base_network = BaseNetwork()\n",
    "criterion = TripletLoss()\n",
    "optimizer = optim.Adam(base_network.parameters(), lr=0.005)"
   ]
  },
  {
   "cell_type": "code",
   "execution_count": 13,
   "metadata": {},
   "outputs": [
    {
     "name": "stdout",
     "output_type": "stream",
     "text": [
      "Epoch [1/20], Loss: 0.7099718283861876\n",
      "Epoch [2/20], Loss: 0.5890894429758191\n",
      "Epoch [3/20], Loss: 0.4165738499723375\n",
      "Epoch [4/20], Loss: 0.3157295761629939\n",
      "Epoch [5/20], Loss: 0.22923468006774783\n",
      "Epoch [6/20], Loss: 0.19509138888679445\n",
      "Epoch [7/20], Loss: 0.18654132657684386\n",
      "Epoch [8/20], Loss: 0.14925404032692313\n",
      "Epoch [9/20], Loss: 0.11873494670726359\n",
      "Epoch [10/20], Loss: 0.13703920994885266\n",
      "Epoch [11/20], Loss: 0.08327330346219242\n",
      "Epoch [12/20], Loss: 0.13722294243052602\n",
      "Epoch [13/20], Loss: 0.11107268347404897\n",
      "Epoch [14/20], Loss: 0.06691475631669164\n",
      "Epoch [15/20], Loss: 0.052424119552597404\n",
      "Epoch [16/20], Loss: 0.06301615480333567\n",
      "Epoch [17/20], Loss: 0.04640295170247555\n",
      "Epoch [18/20], Loss: 0.042100815102458\n",
      "Epoch [19/20], Loss: 0.020422817673534155\n",
      "Epoch [20/20], Loss: 0.01651567919179797\n",
      "Training completed.\n"
     ]
    }
   ],
   "source": [
    "num_epochs = 20\n",
    "device = torch.device('cuda' if torch.cuda.is_available() else 'cpu')\n",
    "for epoch in range(num_epochs):\n",
    "    base_network.train()\n",
    "    running_loss = 0.0\n",
    "    for anchor_img, positive_img, negative_img in dataloader:\n",
    "        anchor_img, positive_img, negative_img = anchor_img.to(device), positive_img.to(device), negative_img.to(device)\n",
    "        optimizer.zero_grad()\n",
    "        anchor_output = base_network(anchor_img)\n",
    "        positive_output = base_network(positive_img)\n",
    "        negative_output = base_network(negative_img)\n",
    "        loss = criterion(anchor_output, positive_output, negative_output)\n",
    "        loss.backward()\n",
    "        optimizer.step()\n",
    "        running_loss += loss.item()\n",
    "\n",
    "    print(f\"Epoch [{epoch+1}/{num_epochs}], Loss: {running_loss/len(dataloader)}\")\n",
    "\n",
    "print(\"Training completed.\")"
   ]
  },
  {
   "cell_type": "code",
   "execution_count": 22,
   "metadata": {},
   "outputs": [
    {
     "name": "stdout",
     "output_type": "stream",
     "text": [
      "Accuracy: 84.38%\n",
      "Accuracy: 85.94%\n",
      "Accuracy: 71.88%\n",
      "Accuracy: 71.09%\n",
      "Accuracy: 69.38%\n",
      "Accuracy: 66.67%\n",
      "Accuracy: 66.07%\n",
      "Accuracy: 64.45%\n",
      "Accuracy: 63.89%\n",
      "Accuracy: 65.62%\n",
      "Accuracy: 66.48%\n",
      "Accuracy: 66.67%\n",
      "Accuracy: 67.79%\n",
      "Accuracy: 67.63%\n",
      "Accuracy: 66.67%\n",
      "Accuracy: 66.80%\n",
      "Accuracy: 67.46%\n",
      "Accuracy: 68.40%\n",
      "Accuracy: 68.42%\n",
      "Accuracy: 68.59%\n",
      "Accuracy: 68.15%\n",
      "Accuracy: 67.90%\n",
      "Accuracy: 67.80%\n",
      "Accuracy: 67.06%\n",
      "Accuracy: 67.50%\n",
      "Accuracy: 67.43%\n",
      "Accuracy: 67.48%\n",
      "Accuracy: 67.08%\n",
      "Accuracy: 67.35%\n",
      "Accuracy: 67.60%\n",
      "Accuracy: 67.34%\n",
      "Accuracy: 67.50%\n"
     ]
    }
   ],
   "source": [
    "# Testing the network\n",
    "labels_dict_test = {}\n",
    "count = 0\n",
    "for writer_label, writer_folder in enumerate(os.listdir(dataset_dir)):\n",
    "    count += 1\n",
    "    writer_folder_path = os.path.join(dataset_dir, writer_folder)\n",
    "    if not os.path.isdir(writer_folder_path):\n",
    "        continue\n",
    "\n",
    "    labels_dict_test[writer_label] = []\n",
    "\n",
    "    for img_name in os.listdir(writer_folder_path):\n",
    "        img_path = os.path.join(writer_folder_path, img_name)\n",
    "        labels_dict_test[writer_label].append(img_path)\n",
    "    \n",
    "test_triplets = generate_triplets(labels_dict_test, 1000)\n",
    "test_dataset = HandwritingTripletDataset(test_triplets, transform=transform)\n",
    "test_dataloader = DataLoader(test_dataset, batch_size=32, shuffle=True)\n",
    "\n",
    "base_network.eval()\n",
    "\n",
    "correct = 0\n",
    "total = 0\n",
    "with torch.no_grad():\n",
    "    for anchor_img, positive_img, negative_img in test_dataloader:\n",
    "        anchor_img, positive_img, negative_img = anchor_img.to(device), positive_img.to(device), negative_img.to(device)\n",
    "        anchor_output = base_network(anchor_img)\n",
    "        positive_output = base_network(positive_img)\n",
    "        negative_output = base_network(negative_img)\n",
    "        positive_distance = nn.functional.pairwise_distance(anchor_output, positive_output)\n",
    "        negative_distance = nn.functional.pairwise_distance(anchor_output, negative_output)\n",
    "        correct += (positive_distance < negative_distance).sum().item()\n",
    "        total += anchor_img.size(0)\n",
    "        print(f\"Accuracy: {correct/total * 100:.2f}%\")"
   ]
  },
  {
   "cell_type": "code",
   "execution_count": null,
   "metadata": {},
   "outputs": [],
   "source": [
    "# Save the model\n",
    "torch.save(base_network.state_dict(), \"siamese_network.pth\")\n",
    "print(\"Model saved.\")"
   ]
  }
 ],
 "metadata": {
  "kernelspec": {
   "display_name": "Python 3",
   "language": "python",
   "name": "python3"
  },
  "language_info": {
   "codemirror_mode": {
    "name": "ipython",
    "version": 3
   },
   "file_extension": ".py",
   "mimetype": "text/x-python",
   "name": "python",
   "nbconvert_exporter": "python",
   "pygments_lexer": "ipython3",
   "version": "3.11.0"
  }
 },
 "nbformat": 4,
 "nbformat_minor": 2
}
